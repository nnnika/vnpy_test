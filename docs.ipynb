{
 "cells": [
  {
   "metadata": {},
   "cell_type": "markdown",
   "source": "# VNPY文档",
   "id": "850c73aaf51f03af"
  },
  {
   "metadata": {},
   "cell_type": "markdown",
   "source": [
    "## 开发环境\n",
    "- Python官网下载3.10版本的安装包\n",
    "- 使用brew安装TA-Lib的C++开发包：brew install ta-lib\n",
    "- 安装NumPy和TA-Lib（Python）：pip install numpy TA-Lib==0.4.24\n",
    "- 安装米筐RQData客户端：pip install rqdatac --index=https://pypi2.ricequant.com/simple\n",
    "- 安装VeighNa核心框架以及插件模块：\n",
    "    pip install vnpy vnpy_ctastrategy vnpy_ctabacktester vnpy_datamanager vnpy_sqlite vnpy_rqdata --index=https://pypi.doubanio.com/simple\n",
    "- 安装CTP交易接口模块：pip install vnpy_ctp --index=https://pypi.doubanio.com/simple"
   ],
   "id": "74f739120ca6ee8d"
  },
  {
   "metadata": {},
   "cell_type": "markdown",
   "source": [
    "CTA策略实盘和回测模块：vnpy_ctastrategy、vnpy_ctabacktester\n",
    "历史数据管理模块：vnpy_datamanager\n",
    "SQLite数据库驱动：vnpy_sqlite\n",
    "RQData数据服务适配器：vnpy_rqdata"
   ],
   "id": "a777c2c7d2316ec8"
  },
  {
   "metadata": {},
   "cell_type": "code",
   "outputs": [],
   "execution_count": null,
   "source": "",
   "id": "7e73301d0334a8df"
  }
 ],
 "metadata": {
  "kernelspec": {
   "display_name": "Python 3",
   "language": "python",
   "name": "python3"
  },
  "language_info": {
   "codemirror_mode": {
    "name": "ipython",
    "version": 2
   },
   "file_extension": ".py",
   "mimetype": "text/x-python",
   "name": "python",
   "nbconvert_exporter": "python",
   "pygments_lexer": "ipython2",
   "version": "2.7.6"
  }
 },
 "nbformat": 4,
 "nbformat_minor": 5
}
